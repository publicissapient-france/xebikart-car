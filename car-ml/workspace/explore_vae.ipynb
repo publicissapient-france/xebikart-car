{
 "cells": [
  {
   "cell_type": "code",
   "execution_count": null,
   "metadata": {},
   "outputs": [],
   "source": [
    "# Original code from https://github.com/araffin/robotics-rl-srl\n",
    "# Authors: Antonin Raffin, René Traoré, Ashley Hill\n",
    "import numpy as np\n",
    "\n",
    "from vae.controller import VAEController\n",
    "from matplotlib import pyplot as plt\n",
    "%matplotlib inline"
   ]
  },
  {
   "cell_type": "code",
   "execution_count": null,
   "metadata": {},
   "outputs": [],
   "source": [
    "# Parameters\n",
    "vae_path = \"vae-level-0-dim-32.pkl\""
   ]
  },
  {
   "cell_type": "code",
   "execution_count": null,
   "metadata": {},
   "outputs": [],
   "source": [
    "vae = VAEController()\n",
    "vae.load(vae_path)"
   ]
  },
  {
   "cell_type": "code",
   "execution_count": null,
   "metadata": {},
   "outputs": [],
   "source": [
    "# TODO: load data to infer bounds\n",
    "bound_min = -10\n",
    "bound_max = 10\n",
    "# the sliders MUST be between 0 and max, so we placed max at 100, and start at 50\n",
    "# So that when we substract 50 and divide 10 we get [-5,5] for each component\n",
    "state = np.random.randint(100, size=vae.z_size)\n",
    "# Rescale the values to fit the bounds of the representation\n",
    "state = (np.array(state) / 100) * (bound_max - bound_min) + bound_min\n",
    "reconstructed_image = vae.decode(state[None])[0]\n",
    "plt.imshow(reconstructed_image)"
   ]
  },
  {
   "cell_type": "code",
   "execution_count": null,
   "metadata": {},
   "outputs": [],
   "source": []
  }
 ],
 "metadata": {
  "kernelspec": {
   "display_name": "Python 3",
   "language": "python",
   "name": "python3"
  },
  "language_info": {
   "codemirror_mode": {
    "name": "ipython",
    "version": 3
   },
   "file_extension": ".py",
   "mimetype": "text/x-python",
   "name": "python",
   "nbconvert_exporter": "python",
   "pygments_lexer": "ipython3",
   "version": "3.6.8"
  }
 },
 "nbformat": 4,
 "nbformat_minor": 2
}
