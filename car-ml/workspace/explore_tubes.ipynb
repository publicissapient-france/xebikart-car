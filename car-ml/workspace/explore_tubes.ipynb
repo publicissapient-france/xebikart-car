{
 "cells": [
  {
   "cell_type": "markdown",
   "metadata": {},
   "source": [
    "# Explore tubes and image processing effect"
   ]
  },
  {
   "cell_type": "code",
   "execution_count": null,
   "metadata": {},
   "outputs": [],
   "source": [
    "import matplotlib.pyplot as plt\n",
    "import matplotlib.image as mpimg\n",
    "import IPython.display as display\n",
    "\n",
    "import tensorflow as tf\n",
    "\n",
    "from xebikart.images import transformer as T\n",
    "import xebikart.images.transformer as images_transformer\n",
    "import xebikart.dataset as dataset"
   ]
  },
  {
   "cell_type": "code",
   "execution_count": null,
   "metadata": {},
   "outputs": [],
   "source": [
    "tf.enable_eager_execution()"
   ]
  },
  {
   "cell_type": "code",
   "execution_count": null,
   "metadata": {},
   "outputs": [],
   "source": [
    "# parameters\n",
    "# dataset parameters\n",
    "tubes_root_folder = \"file:/workspace/xebikart-ml-tubes\"\n",
    "tubes_folders = [\"tub.v5.01\"]\n",
    "test_size = 0.2"
   ]
  },
  {
   "cell_type": "code",
   "execution_count": null,
   "metadata": {},
   "outputs": [],
   "source": [
    "raw_tubes_df = dataset.get_tubes_df(tubes_root_folder, tubes_folders, tubes_extension=\".tar.gz\")\n",
    "tubes_df = raw_tubes_df.rename(columns={\"cam/image_array\": \"images_path\", \"user/angle\": \"angles\", \"user/throttle\": \"throttles\"})\n",
    "tubes_df.count()"
   ]
  },
  {
   "cell_type": "code",
   "execution_count": null,
   "metadata": {},
   "outputs": [],
   "source": [
    "v = 1\n",
    "h = 3\n",
    "\n",
    "fig, axs = plt.subplots(v, h, figsize=(15,15), constrained_layout=True)\n",
    "fig.suptitle(\"Angle / Throttle\", fontsize=20, y=0.7)\n",
    "\n",
    "sample_tubes = tubes_df.sample(v*h).reset_index()\n",
    "sample_tubes_iter = sample_tubes.iterrows()\n",
    "\n",
    "for n, sample in sample_tubes_iter :\n",
    "    random_image_path = sample[\"images_path\"]\n",
    "    angle = sample[\"angles\"]\n",
    "    throttle = sample[\"throttles\"]\n",
    "    image = mpimg.imread(random_image_path) \n",
    "    axs[n].set_title(f\"{angle} / {throttle}\")\n",
    "    axs[n].imshow(image)\n",
    "    axs[n].get_xaxis().set_visible(False)\n",
    "    axs[n].get_yaxis().set_visible(False)"
   ]
  },
  {
   "cell_type": "code",
   "execution_count": null,
   "metadata": {},
   "outputs": [],
   "source": [
    "fig, axs = plt.subplots(v*6, h, figsize=(15,15), constrained_layout=True)\n",
    "fig.suptitle(\"Angle / Throttle\", fontsize=20, y=1.1)\n",
    "\n",
    "sample_tubes_iter = sample_tubes.iterrows()\n",
    "\n",
    "for n, sample in sample_tubes_iter :\n",
    "    # show images\n",
    "    random_image_path = sample[\"images_path\"]\n",
    "    angle = sample[\"angles\"]\n",
    "    throttle = sample[\"throttles\"]\n",
    "    image = mpimg.imread(random_image_path) \n",
    "    #axs[n].set_title(f\"{angle} / {throttle}\")\n",
    "    axs[0,n].imshow(image)\n",
    "    axs[0,n].get_xaxis().set_visible(False)\n",
    "    axs[0,n].get_yaxis().set_visible(False)\n",
    "    \n",
    "    # image normalized\n",
    "    image_norm = image\n",
    "    image_norm = images_transformer.normalize(image)\n",
    "    axs[1,n].imshow(image_norm)\n",
    "    \n",
    "    # images cropped\n",
    "    image_crop = images_transformer.generate_crop_fn(left_margin=0, \n",
    "                                                     width=160, \n",
    "                                                     height_margin=40, \n",
    "                                                     height=80)(image_norm)\n",
    "    axs[2,n].imshow(image_crop)\n",
    "    \n",
    "    #show images augmented\n",
    "    #image_augment = images_transformer.data_augmentation(image_crop)\n",
    "    image_augment = image_crop\n",
    "    axs[3,n].imshow(image_augment)\n",
    "    \n",
    "    #show images\n",
    "    image_edge = images_transformer.edges(image_augment)\n",
    "    axs[4,n].imshow(image_edge[:,:,0],cmap='gray')\n",
    "    axs[5,n].imshow(image_edge[:,:,1],cmap='gray')"
   ]
  },
  {
   "cell_type": "code",
   "execution_count": null,
   "metadata": {},
   "outputs": [],
   "source": []
  }
 ],
 "metadata": {
  "kernelspec": {
   "display_name": "Python 3",
   "language": "python",
   "name": "python3"
  },
  "language_info": {
   "codemirror_mode": {
    "name": "ipython",
    "version": 3
   },
   "file_extension": ".py",
   "mimetype": "text/x-python",
   "name": "python",
   "nbconvert_exporter": "python",
   "pygments_lexer": "ipython3",
   "version": "3.6.8"
  }
 },
 "nbformat": 4,
 "nbformat_minor": 4
}
