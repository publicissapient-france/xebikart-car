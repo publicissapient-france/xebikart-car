{
 "cells": [
  {
   "cell_type": "code",
   "execution_count": null,
   "metadata": {
    "scrolled": true
   },
   "outputs": [],
   "source": [
    "from __future__ import absolute_import, division, print_function, unicode_literals\n",
    "\n",
    "import os\n",
    "\n",
    "import tensorflow as tf\n",
    "from tensorflow import keras\n",
    "from tensorflow.keras.models import load_model\n",
    "print(\"TensorFlow version is \", tf.__version__)\n",
    "\n",
    "from tensorflow.keras.metrics import Precision\n",
    "from tensorflow.keras.metrics import Accuracy\n",
    "\n",
    "import numpy as np\n",
    "\n",
    "import random\n",
    "\n",
    "import matplotlib.pyplot as plt\n",
    "import matplotlib.image as mpimg"
   ]
  },
  {
   "cell_type": "code",
   "execution_count": null,
   "metadata": {},
   "outputs": [],
   "source": [
    "tf.enable_eager_execution()"
   ]
  },
  {
   "cell_type": "markdown",
   "metadata": {},
   "source": [
    "## Create and fill folders"
   ]
  },
  {
   "cell_type": "code",
   "execution_count": null,
   "metadata": {},
   "outputs": [],
   "source": [
    "base_dir = \"./xebikart-ml-tubes/\""
   ]
  },
  {
   "cell_type": "code",
   "execution_count": null,
   "metadata": {},
   "outputs": [],
   "source": [
    "train_dir = base_dir + \"/obstacles_train\"\n",
    "test_dir = base_dir + \"/obstacles_test\"\n",
    "demo_dir = base_dir + \"/obstacles_demo\"\n",
    "\n",
    "import os\n",
    "\n",
    "for directory in [train_dir, test_dir, demo_dir]:\n",
    "    for name in [\"/clear\",\"/obstacles\"]:\n",
    "        if not os.path.exists(directory + name):\n",
    "            os.makedirs(directory + name)"
   ]
  },
  {
   "cell_type": "code",
   "execution_count": null,
   "metadata": {},
   "outputs": [],
   "source": [
    "import random\n",
    "def random_split(items, size):\n",
    "    sample = random.sample(items, size)\n",
    "    a = [x for x in items if x in sample]\n",
    "    b = [x for x in items if x not in sample]\n",
    "    return a, b"
   ]
  },
  {
   "cell_type": "code",
   "execution_count": null,
   "metadata": {},
   "outputs": [],
   "source": [
    "list_ = [x for x in os.listdir(folder[key]) if x.split('.')[1]==\"jpg\"]"
   ]
  },
  {
   "cell_type": "code",
   "execution_count": null,
   "metadata": {},
   "outputs": [],
   "source": [
    "def move_train_test(folder, key, base_dir):\n",
    "\n",
    "    list_ = [x for x in os.listdir(folder[key]) if x.split('.')[1]==\"jpg\"]\n",
    "    a, b = random_split(list_, int(len(list_)*0.8))\n",
    "    c = random.sample(list_, 100)\n",
    "    \n",
    "    train_folder = base_dir + \"obstacles_train/\"\n",
    "    test_folder = base_dir + \"obstacles_test/\"\n",
    "    demo_folder = base_dir + \"obstacles_demo/\"\n",
    "    \n",
    "    # train\n",
    "    if len(os.listdir(train_folder + key) ) == 0:\n",
    "        for file in a :\n",
    "            try :\n",
    "                copyfile(folder[key] + \"/\" + file, \n",
    "                      train_folder + key + \"/\" + file)\n",
    "            except:\n",
    "                print(key + \" \" + file)\n",
    "    \n",
    "    # test\n",
    "    if len(os.listdir(test_folder + key) ) == 0:\n",
    "        for file in b :\n",
    "            try :\n",
    "                copyfile(folder[key] + \"/\" + file, \n",
    "                      test_folder + key + \"/\" + file)\n",
    "            except:\n",
    "                print(key + \" \" + file)\n",
    "    \n",
    "    # demo\n",
    "    if len(os.listdir(demo_folder + key) ) == 0:\n",
    "        for file in c :\n",
    "            try :\n",
    "                copyfile(folder[key] + \"/\" + file, \n",
    "                      demo_folder + key + \"/\" + file)\n",
    "            except:\n",
    "                print(key + \" \" + file)"
   ]
  },
  {
   "cell_type": "code",
   "execution_count": null,
   "metadata": {},
   "outputs": [],
   "source": [
    "from shutil import copyfile\n",
    "\n",
    "folder = {\"clear\" : base_dir + \"tub.v4.02\",\n",
    "          \"obstacles\" : base_dir + \"tub.v6.01\"}\n",
    "\n",
    "for key in folder.keys():\n",
    "    move_train_test(folder=folder, key=key, base_dir=base_dir)"
   ]
  },
  {
   "cell_type": "code",
   "execution_count": null,
   "metadata": {
    "scrolled": true
   },
   "outputs": [],
   "source": [
    "train_dir = os.path.join(base_dir, 'obstacles_train')\n",
    "validation_dir = os.path.join(base_dir, 'obstacles_test')\n",
    "demo_dir = os.path.join(base_dir, 'obstacles_demo')\n",
    "\n",
    "# Directory with our training obstacles\n",
    "train_obstacles_dir = os.path.join(train_dir, 'obstacles')\n",
    "print ('Total training obstacles images:', len(os.listdir(train_obstacles_dir)))\n",
    "\n",
    "# Directory with our training clear pictures\n",
    "train_clear_dir = os.path.join(train_dir, 'clear')\n",
    "print ('Total training clear road images:', len(os.listdir(train_clear_dir)))\n",
    "\n",
    "# Directory with our validation obstacles pictures\n",
    "validation_obstacles_dir = os.path.join(validation_dir, 'obstacles')\n",
    "print ('Total validation obstacles images:', len(os.listdir(validation_obstacles_dir)))\n",
    "\n",
    "# Directory with our validation clear pictures\n",
    "validation_clear_dir = os.path.join(validation_dir, 'clear')\n",
    "print ('Total validation clear road images:', len(os.listdir(validation_clear_dir)))"
   ]
  },
  {
   "cell_type": "markdown",
   "metadata": {},
   "source": [
    "# Get or compile and train a model"
   ]
  },
  {
   "cell_type": "code",
   "execution_count": null,
   "metadata": {},
   "outputs": [],
   "source": [
    "model_name = input()"
   ]
  },
  {
   "cell_type": "markdown",
   "metadata": {},
   "source": [
    "### If a model already exists"
   ]
  },
  {
   "cell_type": "code",
   "execution_count": null,
   "metadata": {},
   "outputs": [],
   "source": [
    "model = load_model(model_name + '.h5')"
   ]
  },
  {
   "cell_type": "markdown",
   "metadata": {},
   "source": [
    "### Train a new model"
   ]
  },
  {
   "cell_type": "markdown",
   "metadata": {},
   "source": [
    "#### Make the data generator"
   ]
  },
  {
   "cell_type": "code",
   "execution_count": null,
   "metadata": {},
   "outputs": [],
   "source": [
    "image_size = 160 # All images will be resized to 160x160\n",
    "batch_size = 32\n",
    "\n",
    "# Rescale all images by 1./255 and apply image augmentation\n",
    "datagen = keras.preprocessing.image.ImageDataGenerator(\n",
    "                rescale=1./255\n",
    "                )\n",
    "\n",
    "# Flow training images in batches of 20 using train_datagen generator\n",
    "train_generator = datagen.flow_from_directory(\n",
    "                train_dir,  # Source directory for the training images\n",
    "                target_size=(image_size, image_size),\n",
    "                batch_size=batch_size,\n",
    "                \n",
    "                # Since we use binary_crossentropy loss, we need binary labels\n",
    "                class_mode='binary')\n",
    "\n",
    "# Flow validation images in batches of 20 using test_datagen generator\n",
    "validation_generator = datagen.flow_from_directory(\n",
    "                validation_dir, # Source directory for the validation images\n",
    "                target_size=(image_size, image_size),\n",
    "                batch_size=batch_size,\n",
    "                class_mode='binary')"
   ]
  },
  {
   "cell_type": "markdown",
   "metadata": {},
   "source": [
    "### Use a pretrained model"
   ]
  },
  {
   "cell_type": "markdown",
   "metadata": {},
   "source": [
    "##### Import the model"
   ]
  },
  {
   "cell_type": "code",
   "execution_count": null,
   "metadata": {},
   "outputs": [],
   "source": [
    "IMG_SHAPE = (image_size, image_size, 3)\n",
    "\n",
    "# Create the base model from the pre-trained model MobileNet V2\n",
    "base_model = tf.keras.applications.MobileNetV2(input_shape=IMG_SHAPE,\n",
    "                                               include_top=False,\n",
    "                                               weights='imagenet')"
   ]
  },
  {
   "cell_type": "markdown",
   "metadata": {},
   "source": [
    "##### Choose the number of layer to train"
   ]
  },
  {
   "cell_type": "code",
   "execution_count": null,
   "metadata": {},
   "outputs": [],
   "source": [
    "nb_layer_train = 5\n",
    "nb_layer_freez = len(base_model.layers) - nb_layer_train"
   ]
  },
  {
   "cell_type": "code",
   "execution_count": null,
   "metadata": {},
   "outputs": [],
   "source": [
    "for layer in base_model.layers[:nb_layer_freez]:\n",
    "    layer.trainable = False"
   ]
  },
  {
   "cell_type": "markdown",
   "metadata": {},
   "source": [
    "##### Let's take a look at the base model architecture"
   ]
  },
  {
   "cell_type": "code",
   "execution_count": null,
   "metadata": {
    "scrolled": true
   },
   "outputs": [],
   "source": [
    "base_model.summary()"
   ]
  },
  {
   "cell_type": "markdown",
   "metadata": {},
   "source": [
    "##### Add an output dense layer"
   ]
  },
  {
   "cell_type": "code",
   "execution_count": null,
   "metadata": {},
   "outputs": [],
   "source": [
    "model = tf.keras.Sequential([\n",
    "  base_model,\n",
    "  keras.layers.GlobalAveragePooling2D(),\n",
    "  keras.layers.Dense(1, activation='sigmoid')\n",
    "])"
   ]
  },
  {
   "cell_type": "markdown",
   "metadata": {},
   "source": [
    "##### Choose the parameters and compile"
   ]
  },
  {
   "cell_type": "code",
   "execution_count": null,
   "metadata": {},
   "outputs": [],
   "source": [
    "model.compile(optimizer=tf.keras.optimizers.Adam(lr=0.001, \n",
    "                                                 decay=0.00005),\n",
    "              loss='binary_crossentropy',\n",
    "              metrics=[Precision(), Accuracy()])"
   ]
  },
  {
   "cell_type": "code",
   "execution_count": null,
   "metadata": {},
   "outputs": [],
   "source": [
    "model.summary()"
   ]
  },
  {
   "cell_type": "code",
   "execution_count": null,
   "metadata": {},
   "outputs": [],
   "source": [
    "len(model.trainable_variables)"
   ]
  },
  {
   "cell_type": "markdown",
   "metadata": {},
   "source": [
    "## Train and evaluate the model"
   ]
  },
  {
   "cell_type": "markdown",
   "metadata": {},
   "source": [
    "### Train"
   ]
  },
  {
   "cell_type": "code",
   "execution_count": null,
   "metadata": {
    "scrolled": true
   },
   "outputs": [],
   "source": [
    "epochs = 20\n",
    "steps_per_epoch = train_generator.n // batch_size\n",
    "validation_steps = validation_generator.n // batch_size\n",
    "\n",
    "history = model.fit_generator(train_generator,\n",
    "                              steps_per_epoch = steps_per_epoch,\n",
    "                              epochs=epochs,\n",
    "                              workers=4,\n",
    "                              validation_data=validation_generator,\n",
    "                              validation_steps=validation_steps)"
   ]
  },
  {
   "cell_type": "markdown",
   "metadata": {},
   "source": [
    "#### Evaluate"
   ]
  },
  {
   "cell_type": "code",
   "execution_count": null,
   "metadata": {
    "scrolled": false
   },
   "outputs": [],
   "source": [
    "acc = history.history['accuracy']\n",
    "val_acc = history.history['val_accuracy']\n",
    "\n",
    "loss = history.history['loss']\n",
    "val_loss = history.history['val_loss']\n",
    "\n",
    "plt.figure(figsize=(8, 8))\n",
    "plt.subplot(2, 1, 1)\n",
    "plt.plot(acc, label='Training Accuracy')\n",
    "plt.plot(val_acc, label='Validation Accuracy')\n",
    "plt.legend(loc='lower right')\n",
    "plt.ylabel('Accuracy')\n",
    "plt.ylim([min(plt.ylim()),1])\n",
    "plt.title('Training and Validation Accuracy')\n",
    "\n",
    "plt.subplot(2, 1, 2)\n",
    "plt.plot(loss, label='Training Loss')\n",
    "plt.plot(val_loss, label='Validation Loss')\n",
    "plt.legend(loc='upper right')\n",
    "plt.ylabel('Cross Entropy')\n",
    "plt.ylim([0,max(plt.ylim())])\n",
    "plt.title('Training and Validation Loss')\n",
    "plt.show()"
   ]
  },
  {
   "cell_type": "markdown",
   "metadata": {},
   "source": [
    "#### Vizualize the results"
   ]
  },
  {
   "cell_type": "code",
   "execution_count": null,
   "metadata": {
    "scrolled": true
   },
   "outputs": [],
   "source": [
    "batch = []\n",
    "\n",
    "# choose the data generator\n",
    "datagen = keras.preprocessing.image.ImageDataGenerator(\n",
    "                rescale=1./255,\n",
    "#                preprocessing_function = preprocess\n",
    "                )\n",
    "\n",
    "# Flow validation images in batches of 20 using test_datagen generator\n",
    "demo_generator = datagen.flow_from_directory(\n",
    "                demo_dir , # Source directory for the validation images\n",
    "                target_size=(image_size, image_size),\n",
    "                batch_size=batch_size,\n",
    "                class_mode='binary')\n",
    "\n",
    "\n",
    "for image_batch, label_batch in demo_generator:\n",
    "    print(\"Image batch shape: \", image_batch.shape)\n",
    "    print(\"Label batch shape: \", label_batch.shape)\n",
    "    batch.append({\"img\":image_batch,\"label\":label_batch})\n",
    "    break\n",
    "\n",
    "result_batch = model.predict(image_batch)\n",
    "    \n",
    "plt.figure(figsize=(20,30))\n",
    "plt.subplots_adjust(hspace=0.3)\n",
    "\n",
    "for n in range(30):\n",
    "    plt.subplot(6,5,n+1)\n",
    "    plt.imshow(image_batch[n])\n",
    "    plt.title(\"Truth : {}/ Prediction : {}\".format(label_batch[n],np.round(result_batch[n],1)))\n",
    "    plt.axis('off')\n",
    "    _ = plt.suptitle(\"ImageNet predictions\")"
   ]
  },
  {
   "cell_type": "code",
   "execution_count": null,
   "metadata": {},
   "outputs": [],
   "source": [
    "# creates a HDF5 file 'my_model.h5'\n",
    "model.save(model_name + '.h5')  "
   ]
  },
  {
   "cell_type": "markdown",
   "metadata": {},
   "source": [
    "## Try to detect an obstacle in a box"
   ]
  },
  {
   "cell_type": "markdown",
   "metadata": {},
   "source": [
    "#### Show an image and a blue on the same picture"
   ]
  },
  {
   "cell_type": "code",
   "execution_count": null,
   "metadata": {},
   "outputs": [],
   "source": [
    "def show_image_and_box(img, box, model, threshold = 0.5):\n",
    "    \n",
    "    cropped_img = img[box[0]:box[2], box[1]:box[3]]\n",
    "    img_resized = np.resize(cropped_img,(160,160,3))\n",
    "    img_reshaped = img_resized.reshape(1,160,160,3)\n",
    "    box_prob = model.predict(img_reshaped)[0][0]\n",
    "    \n",
    "    if box_prob > threshold :\n",
    "        label = \"obstacle\"\n",
    "    else:\n",
    "        label = \"clear\"\n",
    "    \n",
    "    plt.plot([box[1],box[1]],[box[0],box[2]], color=\"C0\",linewidth=4)\n",
    "    plt.plot([box[3],box[3]],[box[0],box[2]], color=\"C0\",linewidth=4)\n",
    "    plt.plot([box[1],box[3]],[box[0],box[0]], color=\"C0\",linewidth=4)\n",
    "    plt.plot([box[1],box[3]],[box[2],box[2]], color=\"C0\",linewidth=4)\n",
    "    plt.title(\"Detection : {} ({})\".format(label,box_prob))\n",
    "    plt.imshow(img)\n",
    "    \n",
    "    return cropped_img"
   ]
  },
  {
   "cell_type": "markdown",
   "metadata": {},
   "source": [
    "#### Pick a picture from the demo folder"
   ]
  },
  {
   "cell_type": "code",
   "execution_count": null,
   "metadata": {},
   "outputs": [],
   "source": [
    "def pick_demo_image(demo_dir, image_category = 'obstacles'):\n",
    "\n",
    "    assert (image_category in ['obstacles', 'clear']), \"the category must be 'obstacles' or 'clear'\"\n",
    "    \n",
    "    demo_dir_obstacle = os.path.join(demo_dir, image_category)\n",
    "    path = os.path.join(demo_dir_obstacle, random.sample(os.listdir(demo_dir_obstacle),1)[0])\n",
    "    tf_content = tf.io.read_file(path)\n",
    "    tf_image = tf.image.decode_jpeg(tf_content, channels=3)\n",
    "    img = mpimg.imread(path)\n",
    "    \n",
    "    return img"
   ]
  },
  {
   "cell_type": "markdown",
   "metadata": {},
   "source": [
    "#### Choose parameters"
   ]
  },
  {
   "cell_type": "code",
   "execution_count": null,
   "metadata": {},
   "outputs": [],
   "source": [
    "top = 60\n",
    "left = 4\n",
    "win_heigh = 58\n",
    "win_width = 150\n",
    "box = (top, left, top + win_heigh, left + win_width)"
   ]
  },
  {
   "cell_type": "markdown",
   "metadata": {},
   "source": [
    "#### Show images"
   ]
  },
  {
   "cell_type": "code",
   "execution_count": null,
   "metadata": {},
   "outputs": [],
   "source": [
    "img = pick_demo_image(demo_dir, image_category = 'obstacles')\n",
    "cropped_img = show_image_and_box(img, box, model, threshold = 0.5)"
   ]
  },
  {
   "cell_type": "code",
   "execution_count": null,
   "metadata": {},
   "outputs": [],
   "source": [
    "img = pick_demo_image(demo_dir, image_category = 'clear')\n",
    "cropped_img = show_image_and_box(img, box, model, threshold = 0.5)"
   ]
  }
 ],
 "metadata": {
  "kernelspec": {
   "display_name": "Python 3",
   "language": "python",
   "name": "python3"
  },
  "language_info": {
   "codemirror_mode": {
    "name": "ipython",
    "version": 3
   },
   "file_extension": ".py",
   "mimetype": "text/x-python",
   "name": "python",
   "nbconvert_exporter": "python",
   "pygments_lexer": "ipython3",
   "version": "3.7.1"
  }
 },
 "nbformat": 4,
 "nbformat_minor": 2
}
