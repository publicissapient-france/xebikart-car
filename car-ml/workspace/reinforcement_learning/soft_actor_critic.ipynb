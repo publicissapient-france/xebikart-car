{
 "cells": [
  {
   "cell_type": "markdown",
   "metadata": {},
   "source": [
    "# Soft Actor Critic\n",
    "\n",
    "Train a soft actor critic agent based on rl_coach framework : https://nervanasystems.github.io/coach/components/agents/policy_optimization/sac.html\n",
    "\n",
    "Some \"filters\" are applied on observation before being supply to soft actor critic policies :\n",
    "- Convert tensor uint8 type into float32\n",
    "- Convert rgb images to grayscale\n",
    "- Reshape image by cropping from (120, 160) -> (80, 160)\n",
    "- Apply sobel filter (https://en.wikipedia.org/wiki/Sobel_operator)\n",
    "  - Binarize images by setting elements to 0 or 1\n",
    "- Embed image with variational auto encoder\n",
    "- Concat last X actions"
   ]
  },
  {
   "cell_type": "code",
   "execution_count": null,
   "metadata": {},
   "outputs": [],
   "source": [
    "import os\n",
    "import re\n",
    "import tempfile\n",
    "\n",
    "import pandas as pd\n",
    "import matplotlib.pyplot as plt\n",
    "\n",
    "import mlflow\n",
    "import mlflow.keras\n",
    "\n",
    "from rl_coach.agents.soft_actor_critic_agent import SoftActorCriticAgentParameters\n",
    "from rl_coach.environments.gym_environment import GymVectorEnvironment\n",
    "from rl_coach.graph_managers.basic_rl_graph_manager import BasicRLGraphManager\n",
    "from rl_coach.graph_managers.graph_manager import SimpleSchedule\n",
    "from rl_coach.base_parameters import TaskParameters, VisualizationParameters, PresetValidationParameters\n",
    "from rl_coach.core_types import EnvironmentSteps, TrainingSteps, SelectedPhaseOnlyDumpFilter, RunPhase\n",
    "from rl_coach.schedules import LinearSchedule\n",
    "\n",
    "from rl_coach import logger\n",
    "\n",
    "%matplotlib inline"
   ]
  },
  {
   "cell_type": "code",
   "execution_count": null,
   "metadata": {},
   "outputs": [],
   "source": [
    "# parameters\n",
    "n_history = 30\n",
    "improve_steps = 20000\n",
    "heatup_steps = 300\n",
    "evaluation_steps = 800\n",
    "steps_between_evaluation_periods = 10000\n",
    "num_training_per_episode = 1000\n",
    "vae_runid = \"ad896cebfe4544e69e946d4f1bdc24aa\"\n",
    "checkpoint_path = None #\"/workspace/mlruns/4/7f18a82d78a84cd58f7947bb4e3986ff/artifacts/17_Step-198210.ckpt\""
   ]
  },
  {
   "cell_type": "code",
   "execution_count": null,
   "metadata": {},
   "outputs": [],
   "source": [
    "# define the environment parameters\n",
    "# Load VAE\n",
    "vae = mlflow.keras.load_model(f\"runs:/{vae_runid}/model\", compile=False)\n",
    "env_params = GymVectorEnvironment(level='xebikart.gym.envs:create_env')\n",
    "env_params.additional_simulator_parameters = {\n",
    "    'level': 4, \n",
    "    'frame_skip': 2, \n",
    "    'max_cte_error': 6.0, \n",
    "    'min_steering': -1,\n",
    "    'max_steering': 1,\n",
    "    'min_throttle': 0.2, \n",
    "    'max_throttle': 0.4,\n",
    "    'vae': vae, \n",
    "    'n_history': n_history, \n",
    "    'max_steering_diff': 0.15, \n",
    "    'jerk_penalty_weight': 0.}\n",
    "\n",
    "# Soft Actor Critic\n",
    "agent_params = SoftActorCriticAgentParameters()\n",
    "agent_params.algorithm.num_consecutive_training_steps = num_training_per_episode\n",
    "agent_params.algorithm.act_for_full_episodes = True\n",
    "agent_params.algorithm.heatup_using_network_decisions = checkpoint_path is not None\n",
    "# exploration schedules\n",
    "agent_params.exploration.noise_schedule = LinearSchedule(0.1, 0., improve_steps)\n",
    "agent_params.exploration.evaluation_noise = 0.\n",
    "\n",
    "\n",
    "# visualize paremeters\n",
    "vis_params = VisualizationParameters()\n",
    "vis_params.print_networks_summary = True\n",
    "vis_params.dump_parameters_documentation = True\n",
    "vis_params.dump_mp4 = True\n",
    "# Default rules, dump at evaluation phase when a new total reward has been achieved \n",
    "# Uncomment to dump all video during evaluation phase\n",
    "#vis_params.video_dump_filters = [SelectedPhaseOnlyDumpFilter(RunPhase.TEST)]\n",
    "\n",
    "# schedule\n",
    "schedule_params = SimpleSchedule()\n",
    "schedule_params.heatup_steps = EnvironmentSteps(heatup_steps)\n",
    "schedule_params.improve_steps = TrainingSteps(improve_steps)\n",
    "schedule_params.steps_between_evaluation_periods = EnvironmentSteps(steps_between_evaluation_periods)\n",
    "schedule_params.evaluation_steps = EnvironmentSteps(evaluation_steps)\n",
    "\n",
    "graph_manager = BasicRLGraphManager(\n",
    "    agent_params=agent_params,\n",
    "    env_params=env_params,\n",
    "    vis_params=vis_params,\n",
    "    schedule_params=schedule_params\n",
    ")"
   ]
  },
  {
   "cell_type": "code",
   "execution_count": null,
   "metadata": {},
   "outputs": [],
   "source": [
    "# Create temp directory\n",
    "experiment_tempdir = tempfile.mkdtemp()"
   ]
  },
  {
   "cell_type": "code",
   "execution_count": null,
   "metadata": {},
   "outputs": [],
   "source": [
    "# create graph\n",
    "task_params = TaskParameters()\n",
    "task_params.num_gpu = 0\n",
    "task_params.use_cpu = True\n",
    "task_params.experiment_path = experiment_tempdir\n",
    "task_params.checkpoint_save_dir = experiment_tempdir\n",
    "# 30 min\n",
    "task_params.checkpoint_save_secs = 60 * 30\n",
    "# Use to start experiment from a checkpoint\n",
    "task_params.checkpoint_restore_path = checkpoint_path\n",
    "\n",
    "graph_manager.create_graph(task_params)\n",
    "\n",
    "logger.experiment_path = graph_manager.graph_logger.experiments_path"
   ]
  },
  {
   "cell_type": "code",
   "execution_count": null,
   "metadata": {},
   "outputs": [],
   "source": [
    "mlflow.set_experiment(\"soft_actor_critic\")\n",
    "\n",
    "with mlflow.start_run():\n",
    "    mlflow.log_param(\"improve_steps\", improve_steps)\n",
    "    mlflow.log_param(\"heatup_steps\", heatup_steps)\n",
    "    mlflow.log_param(\"evaluation_steps\", evaluation_steps)\n",
    "    mlflow.log_param(\"steps_between_evaluation_periods\", steps_between_evaluation_periods)\n",
    "    mlflow.log_param(\"num_training_per_episode\", num_training_per_episode)\n",
    "    mlflow.log_param(\"vae_runid\", vae_runid)\n",
    "    mlflow.log_param(\"n_history\", n_history)\n",
    "    mlflow.log_param(\"checkpoint\", checkpoint_path)\n",
    "    # TODO: think about saving the graph after improve\n",
    "    # TODO: maybe not needed\n",
    "    graph_manager.save_graph()\n",
    "    graph_manager.improve()\n",
    "    graph_manager.save_checkpoint()\n",
    "    mlflow.log_artifacts(experiment_tempdir)\n",
    "    # logs metrics\n",
    "    agent_metrics = pd.read_csv(f\"{experiment_tempdir}/worker_0.simple_rl_graph.main_level.main_level.agent_0.csv\")\n",
    "    mlflow.log_metric(\"episode_length_max\", agent_metrics[\"Episode Length\"].max())\n",
    "    mlflow.log_metric(\"episode_length_mean\", agent_metrics[\"Episode Length\"].mean())\n",
    "    mlflow.log_metric(\"episode_reward_max\", agent_metrics[\"Training Reward\"].max())\n",
    "    mlflow.log_metric(\"episode_reward_mean\", agent_metrics[\"Training Reward\"].mean())"
   ]
  },
  {
   "cell_type": "markdown",
   "metadata": {},
   "source": [
    "### - Visualize Reward Evolution"
   ]
  },
  {
   "cell_type": "code",
   "execution_count": null,
   "metadata": {},
   "outputs": [],
   "source": [
    "%%capture\n",
    "list_file = os.listdir(logger.experiment_path)\n",
    "csvfile = re.findall(pattern='[\\w.]*.csv', string=' '.join(list_file))\n",
    "df = pd.read_csv(os.path.join(logger.experiment_path, csvfile[0]))"
   ]
  },
  {
   "cell_type": "code",
   "execution_count": null,
   "metadata": {},
   "outputs": [],
   "source": [
    "fig = plt.figure(figsize=(18,5))\n",
    "plt.plot(df['Shaped Training Reward'])\n",
    "plt.title('Reward Evolution')\n",
    "plt.xlabel('Episodes')\n",
    "\n",
    "plt.show()"
   ]
  },
  {
   "cell_type": "code",
   "execution_count": null,
   "metadata": {},
   "outputs": [],
   "source": [
    "df.head()"
   ]
  },
  {
   "cell_type": "code",
   "execution_count": null,
   "metadata": {},
   "outputs": [],
   "source": []
  },
  {
   "cell_type": "code",
   "execution_count": null,
   "metadata": {},
   "outputs": [],
   "source": [
    "graph_manager.close()"
   ]
  },
  {
   "cell_type": "code",
   "execution_count": null,
   "metadata": {},
   "outputs": [],
   "source": []
  }
 ],
 "metadata": {
  "kernelspec": {
   "display_name": "Python 3",
   "language": "python",
   "name": "python3"
  },
  "language_info": {
   "codemirror_mode": {
    "name": "ipython",
    "version": 3
   },
   "file_extension": ".py",
   "mimetype": "text/x-python",
   "name": "python",
   "nbconvert_exporter": "python",
   "pygments_lexer": "ipython3",
   "version": "3.6.8"
  }
 },
 "nbformat": 4,
 "nbformat_minor": 4
}
