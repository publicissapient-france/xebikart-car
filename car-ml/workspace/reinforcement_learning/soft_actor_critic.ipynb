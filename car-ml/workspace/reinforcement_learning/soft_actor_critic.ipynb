{
 "cells": [
  {
   "cell_type": "markdown",
   "metadata": {},
   "source": [
    "# Soft Actor Critic\n",
    "\n",
    "Train a soft actor critic agent based on rl_coach framework : https://nervanasystems.github.io/coach/components/agents/policy_optimization/sac.html\n",
    "\n",
    "Some \"filters\" are applied on observation before being supply to soft actor critic policies :\n",
    "- Convert tensor uint8 type into float32\n",
    "- Convert rgb images to grayscale\n",
    "- Reshape image by cropping from (120, 160) -> (80, 160)\n",
    "- Apply sobel filter (https://en.wikipedia.org/wiki/Sobel_operator)\n",
    "  - Binarize images by setting elements to 0 or 1\n",
    "- Embed image with variational auto encoder (vae)\n"
   ]
  },
  {
   "cell_type": "code",
   "execution_count": null,
   "metadata": {},
   "outputs": [],
   "source": [
    "import os\n",
    "\n",
    "import mlflow\n",
    "import mlflow.keras\n",
    "import tempfile\n",
    "\n",
    "import pandas as pd\n",
    "\n",
    "from rl_coach.agents.soft_actor_critic_agent import SoftActorCriticAgentParameters\n",
    "from rl_coach.environments.gym_environment import GymVectorEnvironment\n",
    "from rl_coach.graph_managers.basic_rl_graph_manager import BasicRLGraphManager\n",
    "from rl_coach.graph_managers.graph_manager import SimpleSchedule, SimpleScheduleWithoutEvaluation\n",
    "from rl_coach.base_parameters import TaskParameters, VisualizationParameters\n",
    "from rl_coach.core_types import EnvironmentSteps, TrainingSteps, SelectedPhaseOnlyDumpFilter, RunPhase\n",
    "from rl_coach import logger\n",
    "\n",
    "from rl_coach.schedules import Schedule, LinearSchedule"
   ]
  },
  {
   "cell_type": "code",
   "execution_count": null,
   "metadata": {},
   "outputs": [],
   "source": [
    "# parameters\n",
    "improve_steps = 200000\n",
    "heatup_steps = 300\n",
    "evaluation_steps = 800\n",
    "steps_between_evaluation_periods = 50000\n",
    "num_training_per_episode = 50\n",
    "vae_runid = \"1882ffed18594d8abba5239f106f7efe\""
   ]
  },
  {
   "cell_type": "code",
   "execution_count": null,
   "metadata": {},
   "outputs": [],
   "source": [
    "# define the environment parameters\n",
    "# Load VAE\n",
    "vae = mlflow.keras.load_model(f\"runs:/{vae_runid}/model\", compile=False)\n",
    "env_params = GymVectorEnvironment(level='xebikart.gym.envs:create_env')\n",
    "env_params.additional_simulator_parameters = {\n",
    "  'level': 4, 'frame_skip': 2, 'max_cte_error': 3.0, \n",
    "  'min_steering': -1, 'max_steering': 1,\n",
    "  'min_throttle': 0.2, 'max_throttle': 0.4,\n",
    "  'vae': vae, 'n_history': 10, \n",
    "  'max_steering_diff': 0.15, 'jerk_penalty_weight': 0.}\n",
    "\n",
    "# Soft Actor Critic\n",
    "agent_params = SoftActorCriticAgentParameters()\n",
    "agent_params.algorithm.num_consecutive_training_steps = num_training_per_episode\n",
    "agent_params.algorithm.act_for_full_episodes = True\n",
    "\n",
    "# visualize paremeters\n",
    "vis_params = VisualizationParameters()\n",
    "vis_params.print_networks_summary = True\n",
    "vis_params.dump_parameters_documentation = True\n",
    "vis_params.dump_mp4 = True\n",
    "# Default rules, dump at evaluation phase when a new total reward has been achieved \n",
    "#vis_params.video_dump_filters = [SelectedPhaseOnlyDumpFilter(RunPhase.TEST)]\n",
    "\n",
    "\n",
    "# schedule\n",
    "schedule_params = SimpleSchedule()\n",
    "schedule_params.heatup_steps = EnvironmentSteps(heatup_steps)\n",
    "schedule_params.improve_steps = TrainingSteps(improve_steps)\n",
    "schedule_params.steps_between_evaluation_periods = EnvironmentSteps(steps_between_evaluation_periods)\n",
    "schedule_params.evaluation_steps = EnvironmentSteps(evaluation_steps)\n",
    "\n",
    "graph_manager = BasicRLGraphManager(\n",
    "    agent_params=agent_params,\n",
    "    env_params=env_params,\n",
    "    vis_params=vis_params,\n",
    "    schedule_params=schedule_params\n",
    ")"
   ]
  },
  {
   "cell_type": "code",
   "execution_count": null,
   "metadata": {},
   "outputs": [],
   "source": [
    "# Create temp directory\n",
    "experiment_tempdir = tempfile.mkdtemp()"
   ]
  },
  {
   "cell_type": "code",
   "execution_count": null,
   "metadata": {},
   "outputs": [],
   "source": [
    "# create graph\n",
    "task_params = TaskParameters()\n",
    "task_params.num_gpu = 0\n",
    "task_params.use_cpu = True\n",
    "task_params.experiment_path = experiment_tempdir\n",
    "task_params.checkpoint_save_dir = experiment_tempdir\n",
    "# 30 min\n",
    "task_params.checkpoint_save_secs = 60 * 1\n",
    "# Use to start experiment from a checkpoint\n",
    "#task_params.checkpoint_restore_path = \"\"\n",
    "\n",
    "graph_manager.create_graph(task_params)\n",
    "\n",
    "logger.experiment_path = graph_manager.graph_logger.experiments_path"
   ]
  },
  {
   "cell_type": "code",
   "execution_count": null,
   "metadata": {},
   "outputs": [],
   "source": [
    "mlflow.set_experiment(\"soft_actor_critic\")\n",
    "\n",
    "with mlflow.start_run():\n",
    "    mlflow.log_param(\"improve_steps\", improve_steps)\n",
    "    mlflow.log_param(\"heatup_steps\", heatup_steps)\n",
    "    mlflow.log_param(\"evaluation_steps\", evaluation_steps)\n",
    "    mlflow.log_param(\"steps_between_evaluation_periods\", steps_between_evaluation_periods)\n",
    "    mlflow.log_param(\"num_training_per_episode\", num_training_per_episode)\n",
    "    mlflow.log_param(\"vae_runid\", vae_runid)\n",
    "    mlflow.log_param(\"vae_runid\", num_training_per_episode)\n",
    "    graph_manager.save_graph()\n",
    "    graph_manager.improve()\n",
    "    mlflow.log_artifacts(experiment_tempdir)\n",
    "    # TODO: compute some metrics (avg reward, max reward, ...)\n",
    "    agent_metrics = pd.read_csv(f\"{experiment_tempdir}/worker_0.simple_rl_graph.main_level.main_level.agent_0.csv\")\n",
    "    mlflow.log_metric(\"episode_length_max\", agent_metrics[\"Episode Length\"].max())\n",
    "    mlflow.log_metric(\"episode_length_mean\", agent_metrics[\"Episode Length\"].mean())\n",
    "    mlflow.log_metric(\"episode_reward_max\", agent_metrics[\"Training Reward\"].max())\n",
    "    mlflow.log_metric(\"episode_reward_mean\", agent_metrics[\"Training Reward\"].mean())"
   ]
  },
  {
   "cell_type": "code",
   "execution_count": null,
   "metadata": {},
   "outputs": [],
   "source": [
    "graph_manager.close()"
   ]
  }
 ],
 "metadata": {
  "kernelspec": {
   "display_name": "Python 3",
   "language": "python",
   "name": "python3"
  },
  "language_info": {
   "codemirror_mode": {
    "name": "ipython",
    "version": 3
   },
   "file_extension": ".py",
   "mimetype": "text/x-python",
   "name": "python",
   "nbconvert_exporter": "python",
   "pygments_lexer": "ipython3",
   "version": "3.6.8"
  }
 },
 "nbformat": 4,
 "nbformat_minor": 4
}
